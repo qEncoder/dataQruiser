{
 "cells": [
  {
   "cell_type": "markdown",
   "id": "88982a1c",
   "metadata": {},
   "source": [
    "# Native data acquisition\n",
    "In this tutorial we run some measurements, and we push the data directly to the QHarbor platform.\n",
    "\n",
    "You can download this jupyter notebook and more examples from [here](https://github.com/qEncoder/dataQruiser/tree/main/examples)."
   ]
  },
  {
   "cell_type": "markdown",
   "id": "4b6d5c33",
   "metadata": {},
   "source": [
    "# Run a measurement with qdrive\n",
    "This measurement loop pushes data directly to a qdrive dataset. You can see the live dataset populating in the dataQruiser app"
   ]
  },
  {
   "cell_type": "code",
   "execution_count": 6,
   "id": "d8874856",
   "metadata": {},
   "outputs": [
    {
     "name": "stdout",
     "output_type": "stream",
     "text": [
      "\n",
      "Starting measurement with uuid : 52e21779-1ae8-4ed8-bcec-6f228ba12ba8 - 1D Sweep Native\n"
     ]
    },
    {
     "name": "stderr",
     "output_type": "stream",
     "text": [
      "Measurement Progress: 100%|██████████| 300/300 [00:07<00:00, 40.70it/s]\n"
     ]
    },
    {
     "name": "stdout",
     "output_type": "stream",
     "text": [
      "\n",
      "Starting measurement with uuid : cfc2b8bd-5b79-4134-b567-3fcbbfccda48 - 2D Sweep Native\n"
     ]
    },
    {
     "name": "stderr",
     "output_type": "stream",
     "text": [
      "Measurement Progress: 100%|██████████| 10000/10000 [00:10<00:00, 937.25it/s]\n"
     ]
    }
   ],
   "source": [
    "from qdrive.measurement.sweeps import do0D, do1D, do2D\n",
    "from utils import dac, measure_param_1, measure_param_2 # import the mock instruments\n",
    "\n",
    "# 1D Sweep\n",
    "dsq = do1D(\"1D Sweep Native\", \n",
    "        dac.ch1, -250, 250, 300, 0.02,   # sweep parameter, start, stop, n_points, delay\n",
    "        measure_param_1, measure_param_2,\n",
    "        reset_param=True,\n",
    "        )\n",
    "dsq.attributes = {'sample': 'Q7-R3', 'setup': 'Fridge B256'}\n",
    "\n",
    "dsq = do2D(\"2D Sweep Native\", \n",
    "          dac.ch1, 0, 400, 100, 0,\n",
    "          dac.ch2, -100, 100, 100, 0.0007, \n",
    "          measure_param_1,\n",
    "          reset_param=True\n",
    "          )\n",
    "dsq.attributes = {'sample': 'Q7-R3', 'setup': 'Fridge B256'}"
   ]
  },
  {
   "cell_type": "markdown",
   "id": "d0ccb635",
   "metadata": {},
   "source": [
    "# Run a measurement and perform an analysis"
   ]
  },
  {
   "cell_type": "code",
   "execution_count": 7,
   "id": "0b80e40e",
   "metadata": {},
   "outputs": [
    {
     "name": "stdout",
     "output_type": "stream",
     "text": [
      "\n",
      "Starting measurement with uuid : 8aa510e0-b696-46fb-afdb-78b25dbe4703 - 1D Sweep Native\n"
     ]
    },
    {
     "name": "stderr",
     "output_type": "stream",
     "text": [
      "Measurement Progress: 100%|██████████| 300/300 [00:03<00:00, 77.40it/s]\n"
     ]
    }
   ],
   "source": [
    "# 1D Sweep\n",
    "dsq = do1D(\"1D Sweep Native with Analysis\", \n",
    "        dac.ch1, -250, 250, 300, 0.01,   # sweep parameter, start, stop, n_points, delay\n",
    "        measure_param_1, \n",
    "        reset_param=True\n",
    "        )\n",
    "\n",
    "# ANALYSIS: fit the data\n",
    "from matplotlib import pyplot as plt\n",
    "from pathlib import Path\n",
    "from scipy.optimize import curve_fit\n",
    "import numpy as np\n",
    "\n",
    "def cos_func(x, amp, freq, phase, offset):\n",
    "    return amp * np.cos(2*np.pi*freq*x + phase) + offset\n",
    "\n",
    "# Get the xarray dataset\n",
    "dsx = dsq['measurement.hdf5'].xarray\n",
    "\n",
    "# Fit the data\n",
    "popt, pcov = curve_fit(cos_func, dsx.ch1, dsx.measure_param_1, p0=[1.0, 0.01, 0, 0])\n",
    "fit_data = cos_func(dsx.ch1, *popt)\n",
    "\n",
    "# Add fit data to dataset and link variables for joint plotting\n",
    "dsx['fit'] = fit_data\n",
    "dsx['fit'].attrs.update({'__join_plot': 'measure_param_1'})\n",
    "dsx.measure_param_1.attrs.update({'__join_plot': 'fit'})\n",
    "dsq['analysis.hdf5'] = dsx\n",
    "\n",
    "# Plot the fit\n",
    "dsx.measure_param_1.plot.scatter()\n",
    "plt.plot(dsx.ch1, fit_data, 'r-', label='fit')\n",
    "plt.legend()\n",
    "plt.savefig('fit.png')\n",
    "\n",
    "# UPLOAD the analysis to the database\n",
    "dsq['fit.png'] = Path('fit.png')\n",
    "dsq['fit_params.json'] = {\n",
    "    'amplitude': popt[0],\n",
    "    'frequency': popt[1],\n",
    "    'phase': popt[2],\n",
    "    'offset': popt[3]\n",
    "}"
   ]
  },
  {
   "cell_type": "markdown",
   "id": "4333662e",
   "metadata": {},
   "source": [
    "# Custom measurement loop"
   ]
  },
  {
   "cell_type": "code",
   "execution_count": 9,
   "id": "2fc8eb87",
   "metadata": {},
   "outputs": [
    {
     "ename": "AttributeError",
     "evalue": "'Station' object and its delegates have no attribute 'one_D_graph_instr'",
     "output_type": "error",
     "traceback": [
      "\u001b[0;31m---------------------------------------------------------------------------\u001b[0m",
      "\u001b[0;31mAttributeError\u001b[0m                            Traceback (most recent call last)",
      "Cell \u001b[0;32mIn[9], line 15\u001b[0m\n\u001b[1;32m     10\u001b[0m station \u001b[38;5;241m=\u001b[39m get_station()\n\u001b[1;32m     12\u001b[0m \u001b[38;5;66;03m# Combine the previous 1D and 2D experiments in a single experiment\u001b[39;00m\n\u001b[1;32m     13\u001b[0m \n\u001b[1;32m     14\u001b[0m \u001b[38;5;66;03m# 1 load relevant instruments\u001b[39;00m\n\u001b[0;32m---> 15\u001b[0m graph_instr_1D \u001b[38;5;241m=\u001b[39m \u001b[43mstation\u001b[49m\u001b[38;5;241;43m.\u001b[39;49m\u001b[43mone_D_graph_instr\u001b[49m\n\u001b[1;32m     16\u001b[0m graph_instr_1D\u001b[38;5;241m.\u001b[39mset_shape(n_x_vals)\n\u001b[1;32m     17\u001b[0m graph_instr_2D \u001b[38;5;241m=\u001b[39m station\u001b[38;5;241m.\u001b[39mtwo_D_graph_instr\n",
      "File \u001b[0;32m/opt/miniconda3/lib/python3.12/site-packages/qcodes/utils/attribute_helpers.py:71\u001b[0m, in \u001b[0;36mDelegateAttributes.__getattr__\u001b[0;34m(self, key)\u001b[0m\n\u001b[1;32m     68\u001b[0m     \u001b[38;5;28;01mexcept\u001b[39;00m \u001b[38;5;167;01mAttributeError\u001b[39;00m:\n\u001b[1;32m     69\u001b[0m         \u001b[38;5;28;01mpass\u001b[39;00m\n\u001b[0;32m---> 71\u001b[0m \u001b[38;5;28;01mraise\u001b[39;00m \u001b[38;5;167;01mAttributeError\u001b[39;00m(\n\u001b[1;32m     72\u001b[0m     \u001b[38;5;124mf\u001b[39m\u001b[38;5;124m\"\u001b[39m\u001b[38;5;124m'\u001b[39m\u001b[38;5;132;01m{\u001b[39;00m\u001b[38;5;28mself\u001b[39m\u001b[38;5;241m.\u001b[39m\u001b[38;5;18m__class__\u001b[39m\u001b[38;5;241m.\u001b[39m\u001b[38;5;18m__name__\u001b[39m\u001b[38;5;132;01m}\u001b[39;00m\u001b[38;5;124m'\u001b[39m\u001b[38;5;124m object and its delegates have no attribute \u001b[39m\u001b[38;5;124m'\u001b[39m\u001b[38;5;132;01m{\u001b[39;00mkey\u001b[38;5;132;01m}\u001b[39;00m\u001b[38;5;124m'\u001b[39m\u001b[38;5;124m\"\u001b[39m\n\u001b[1;32m     73\u001b[0m )\n",
      "\u001b[0;31mAttributeError\u001b[0m: 'Station' object and its delegates have no attribute 'one_D_graph_instr'"
     ]
    }
   ],
   "source": [
    "import time\n",
    "import numpy as np\n",
    "\n",
    "from qdrive.measurement.measurement import Measurement\n",
    "from qdrive.demo.station import get_station\n",
    "\n",
    "n_x_vals = 100\n",
    "n_y_vals = 150\n",
    "\n",
    "station = get_station()\n",
    "\n",
    "# Combine the previous 1D and 2D experiments in a single experiment\n",
    "\n",
    "# 1 load relevant instruments\n",
    "graph_instr_1D = station.one_D_graph_instr\n",
    "graph_instr_1D.set_shape(n_x_vals)\n",
    "graph_instr_2D = station.two_D_graph_instr\n",
    "graph_instr_2D.set_shape(n_x_vals, n_y_vals)\n",
    "\n",
    "dac = station.QH_dac\n",
    "\n",
    "# 2 create a measurement object\n",
    "meas = Measurement(\"combined_1D_and_2D_measurement\")\n",
    "meas.register_m_param(graph_instr_1D.m_param, dac.ch1)\n",
    "meas.register_m_param(graph_instr_2D.m_param, dac.ch1, dac.ch2)\n",
    "\n",
    "# 3 run the measurement\n",
    "with meas.measure() as data_collector:\n",
    "    for ch1_voltage in np.arange(0,n_y_vals,1):\n",
    "        dac.ch1.set(ch1_voltage)\n",
    "        # provide collection of m_params and their setpoints here\n",
    "        data_collector.add_data({dac.ch1 : ch1_voltage, graph_instr_1D.m_param : graph_instr_1D.m_param()})\n",
    "\n",
    "        for ch2_voltage in np.arange(0,n_x_vals,1):\n",
    "            dac.ch2.set(ch2_voltage)\n",
    "            data_collector.add_data({dac.ch1 : ch1_voltage,\n",
    "                                        dac.ch2 : ch2_voltage,\n",
    "                                        graph_instr_2D.m_param : graph_instr_2D.m_param()})\n",
    "\n",
    "            time.sleep(0.001)\n",
    "\n",
    "ds = meas.dataset"
   ]
  }
 ],
 "metadata": {
  "kernelspec": {
   "display_name": "Python 3",
   "language": "python",
   "name": "python3"
  },
  "language_info": {
   "codemirror_mode": {
    "name": "ipython",
    "version": 3
   },
   "file_extension": ".py",
   "mimetype": "text/x-python",
   "name": "python",
   "nbconvert_exporter": "python",
   "pygments_lexer": "ipython3",
   "version": "3.12.2"
  }
 },
 "nbformat": 4,
 "nbformat_minor": 5
}
