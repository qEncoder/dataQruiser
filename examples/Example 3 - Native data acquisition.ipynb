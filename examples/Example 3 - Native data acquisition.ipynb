{
 "cells": [
  {
   "cell_type": "markdown",
   "id": "88982a1c",
   "metadata": {},
   "source": [
    "# Example 3 - Native data acquisition\n",
    "In this tutorial we run a measurement with a custom data aquisition loop, and we push the data directly to the QHarbor platform.\n",
    "\n",
    "You can download this jupyter notebook and more examples from [here](https://github.com/qEncoder/dataQruiser/tree/main/examples)."
   ]
  },
  {
   "cell_type": "markdown",
   "id": "316eb684",
   "metadata": {},
   "source": [
    "## Define mock instruements"
   ]
  },
  {
   "cell_type": "code",
   "execution_count": 1,
   "id": "a2d8bbd5-f2e7-4130-8f1e-b9c46b55d15b",
   "metadata": {},
   "outputs": [
    {
     "name": "stderr",
     "output_type": "stream",
     "text": [
      "/opt/miniconda3/lib/python3.12/site-packages/qdrive/testing/qcodes_test_param.py:10: QCoDeSDeprecationWarning: The `qcodes.tests` module is deprecated, because tests are no longer shipped with QCoDeS. Use \"`qcodes.instrument_drivers.mock_instruments` and `qcodes.extensions.DriverTestCase`\" as an alternative.\n",
      "  from qcodes.tests.instrument_mocks import DummyInstrument\n"
     ]
    }
   ],
   "source": [
    "# Here we make the mock instruments with qcodes for convenience\n",
    "from qdrive.measurement.data_collector import data_collector, from_QCoDeS_parameter\n",
    "from qdrive.dataset.dataset import dataset\n",
    "from qdrive.testing.qcodes_test_param import MyCounter\n",
    "\n",
    "from qcodes.instrument_drivers.mock_instruments import DummyInstrument\n",
    "from qcodes.parameters import MultiParameter\n",
    "import time\n",
    "import numpy as np\n",
    "\n",
    "\n",
    "try:\n",
    "    dac = DummyInstrument('dac', gates=['ch1', 'ch2'])\n",
    "    param = MyCounter(\"counter\")\n",
    "except: pass\n",
    "\n",
    "class IQArray(MultiParameter):\n",
    "    def __init__(self, n_pts):\n",
    "        # names, labels, and units are the same\n",
    "        self.n_pts = n_pts\n",
    "        setpoints_values = tuple(np.linspace(0, n_pts-1, n_pts))\n",
    "        self.rng = np.random.default_rng(seed=42)\n",
    "        super().__init__('iq_array', names=('I', 'Q'), shapes=((n_pts,), (n_pts,)),\n",
    "                         labels=('In phase amplitude', 'Quadrature amplitude'),\n",
    "                         units=('V', 'V'),\n",
    "                         # note that EACH item needs a sequence of setpoint arrays\n",
    "                         # so a 1D item has its setpoints wrapped in a length-1 tuple\n",
    "                         setpoints=((setpoints_values, ), (setpoints_values,), ),\n",
    "                         setpoint_names=(((\"repetition\"),), ((\"repetition\"),)),\n",
    "                         setpoint_labels=(((\"repetition\"),), ((\"repetition\"),)),\n",
    "                         setpoint_units=(((\"#\"),), ((\"#\"),)),\n",
    "                         docstring='param that returns two single values, I and Q')\n",
    "\n",
    "    def get_raw(self):\n",
    "        return (self.rng.random([self.n_pts]), self.rng.random([self.n_pts]))\n"
   ]
  },
  {
   "cell_type": "markdown",
   "id": "4b6d5c33",
   "metadata": {},
   "source": [
    "## Run a custom measurement loop\n",
    "This measurement loop pushes data directly to a qdrive dataset. You can see the live dataset populating in the dataQruiser app"
   ]
  },
  {
   "cell_type": "code",
   "execution_count": 2,
   "id": "d3aa901f",
   "metadata": {},
   "outputs": [],
   "source": [
    "from qdrive import Measurement\n",
    "from qcodes import Station\n"
   ]
  },
  {
   "cell_type": "code",
   "execution_count": 9,
   "id": "87299921-0ab5-49f9-b642-77e9ce089c53",
   "metadata": {},
   "outputs": [
    {
     "name": "stdout",
     "output_type": "stream",
     "text": [
      "\n",
      "Starting measurement with uuid : 684fa6b4-cc2b-4ee1-a21c-21a69d990be4 - Native data 1D\n",
      "Contents of dataset :: Native data 1D\n",
      "=====================================\n",
      "\n",
      "uuid :: 684fa6b4-cc2b-4ee1-a21c-21a69d990be4\n",
      "Scope :: z_scope\n",
      "Ranking :: 0\n",
      "Files :: \n",
      "name         type                  selected version number (version_id)      Maximal version number\n",
      "-----------  --------------------  --------------------------------------  ------------------------\n",
      "measurement  FileType.HDF5_NETCDF  0 (1727786375446)                                              0\n",
      "snapshot     FileType.JSON         0 (1727786375491)                                              0\n"
     ]
    }
   ],
   "source": [
    "# Example of a 1D sweep\n",
    "measurement = Measurement(\"Native data 1D\", scope_name=None)\n",
    "measurement.register_get_parameter(param, dac.ch1) # parameter, setpoint1, setpoint2, ...\n",
    "measurement.add_snapshot(Station().snapshot())\n",
    "\n",
    "with measurement as meas:\n",
    "    voltages = np.linspace(0,200, 100)\n",
    "    rng = np.random.default_rng(seed=42)\n",
    "    for i in voltages:\n",
    "        dac.ch1.set(i)\n",
    "        meas.add_result({param : rng.random() + 1, dac.ch1 : dac.ch1.get()})\n",
    "        time.sleep(0.1)\n",
    "\n",
    "print(measurement.ds)"
   ]
  },
  {
   "cell_type": "code",
   "execution_count": 10,
   "id": "660e8cc3-827e-4b0e-a8dc-6514e4190dd1",
   "metadata": {},
   "outputs": [
    {
     "name": "stdout",
     "output_type": "stream",
     "text": [
      "\n",
      "Starting measurement with uuid : ea41655e-b2f3-49ea-9ecb-c94d840dcb0c - Native data 2D\n"
     ]
    }
   ],
   "source": [
    "# Example of a 2D sweep\n",
    "measurement = Measurement(\"Native data 2D\", scope_name=None)\n",
    "measurement.register_get_parameter(param, dac.ch1, dac.ch2) # parameter, setpoint1, setpoint2, ...\n",
    "measurement.add_snapshot(Station().snapshot())\n",
    "\n",
    "with measurement as meas:\n",
    "    ch1 = np.linspace(50,200, 20)\n",
    "    ch2 = np.linspace(10,150, 20)\n",
    "\n",
    "    for i in ch1:\n",
    "        dac.ch1.set(i)\n",
    "        for j in ch2:\n",
    "            dac.ch2.set(j)\n",
    "            meas.add_result({param : param.get(), dac.ch1 : dac.ch1.get(), dac.ch2 : dac.ch2.get()})\n",
    "            time.sleep(0.03)"
   ]
  },
  {
   "cell_type": "code",
   "execution_count": null,
   "id": "5a2653af",
   "metadata": {},
   "outputs": [],
   "source": []
  }
 ],
 "metadata": {
  "kernelspec": {
   "display_name": "Python 3 (ipykernel)",
   "language": "python",
   "name": "python3"
  },
  "language_info": {
   "codemirror_mode": {
    "name": "ipython",
    "version": 3
   },
   "file_extension": ".py",
   "mimetype": "text/x-python",
   "name": "python",
   "nbconvert_exporter": "python",
   "pygments_lexer": "ipython3",
   "version": "3.12.2"
  }
 },
 "nbformat": 4,
 "nbformat_minor": 5
}
