{
 "cells": [
  {
   "cell_type": "markdown",
   "id": "4afb88db",
   "metadata": {},
   "source": [
    "# Synchronize folder-base data"
   ]
  },
  {
   "cell_type": "code",
   "execution_count": 12,
   "id": "909c4235",
   "metadata": {},
   "outputs": [],
   "source": [
    "# install the data_converter module which allows to convert a text file to a hdf5 file\n",
    "# !pip install -e ./data_converter"
   ]
  },
  {
   "cell_type": "markdown",
   "id": "4cf784c2",
   "metadata": {},
   "source": [
    "# Create sample data in a folder structure"
   ]
  },
  {
   "cell_type": "code",
   "execution_count": 16,
   "id": "a9fdc3aa",
   "metadata": {},
   "outputs": [],
   "source": [
    "from qdrive.dataset import generate_dataset_info\n",
    "from data_converter.converter_txt_to_hdf5 import TxtToHdf5Converter\n",
    "from datetime import datetime, timedelta\n",
    "import os\n",
    "import json\n",
    "import numpy as np\n",
    "import random\n",
    "\n",
    "data_path = \"data/folder_base_data/\"\n",
    "sample_names = [\"sample_A\", \"sample_B\", \"sample_C\"]\n",
    "sample_name = random.choice(sample_names)\n",
    "\n",
    "# Create measurement data (measurement.txt & metadata.json file)\n",
    "timestamp = datetime.now().strftime(\"%Y%m%d_%H%M%S\")\n",
    "path = f\"{data_path}/{sample_name}/{timestamp}/\"\n",
    "os.makedirs(path, exist_ok=True)\n",
    "\n",
    "t1_times = np.linspace(0, 100, 50)  # microseconds\n",
    "t1_signal = np.exp(-t1_times/25) + 0.02 * np.random.randn(50)  # T1 = 25 μs\n",
    "np.savetxt(f\"{path}measurement.txt\", np.column_stack([t1_times, t1_signal]), \n",
    "           header=\"Time(us)\\tSignal(mV)\", delimiter=\"\\t\", comments=\"\")\n",
    "\n",
    "metadata = {\n",
    "    \"measurement_type\": \"T1_decay\",\n",
    "    \"qubit_id\": \"Q1\",\n",
    "    \"temperature(K)\": 0.015,\n",
    "    \"power(dBm)\": -20,\n",
    "    \"frequency(Hz)\": 5.2e9,\n",
    "    \"fitted_T1(us)\": 25.3,\n",
    "}\n",
    "\n",
    "with open(f\"{path}metadata.json\", \"w\") as f:\n",
    "    json.dump(metadata, f, indent=2)\n",
    "\n",
    "\n",
    "# Generate _QH_dataset_info.yaml manifest file\n",
    "# The converter TxtToHdf5Converter is used to convert the measurement.txt file to a hdf5 file\n",
    "generate_dataset_info(path,\n",
    "    dataset_name = \"T1_decay_measurement\",\n",
    "    creation = datetime.now(),\n",
    "    description=\"T1 decay measurement for qubit relaxation time characterization.\",\n",
    "    attributes={\"sample\" : sample_name, \"qubit_id\": \"Q1\", \"measurement_type\": \"T1_decay\"},\n",
    "    keywords=[\"T1\", \"decay\", \"relaxation\", \"characterization\"],\n",
    "    converters = [TxtToHdf5Converter],\n",
    "    # skip=[\"*.json\", \"raw_data/*\"]\n",
    ")"
   ]
  },
  {
   "cell_type": "markdown",
   "id": "968c64c1",
   "metadata": {},
   "source": [
    "# Add folder to sync sources"
   ]
  },
  {
   "cell_type": "code",
   "execution_count": null,
   "id": "0fa32706",
   "metadata": {},
   "outputs": [],
   "source": [
    "from etiket_client.sync.backends.sources import add_sync_source\n",
    "from etiket_client.python_api.scopes import get_selected_scope\n",
    "from etiket_client.sync.backends.filebase.filebase_sync_class import FileBaseSync\n",
    "from etiket_client.sync.backends.filebase.filebase_config_class import FileBaseConfigData\n",
    "import qdrive\n",
    "\n",
    "from pathlib import Path\n",
    "data_path = Path(\"./data/folder_base_data/\")\n",
    "config = FileBaseConfigData(root_directory=data_path, server_folder = False)\n",
    "add_sync_source('folder base test', FileBaseSync, config, get_selected_scope())\n",
    "qdrive.restart_sync_agent()\n"
   ]
  },
  {
   "cell_type": "markdown",
   "id": "f32971e3",
   "metadata": {},
   "source": [
    "### Once the source is added:\n",
    "- check the new data appear in DataQruiser\n",
    "- create more datasets\n",
    "- add new files to an existing dataset folder\n",
    "- modify the attributes in the __QH_dataset_info.yaml file"
   ]
  },
  {
   "cell_type": "markdown",
   "id": "295f34bc",
   "metadata": {},
   "source": []
  }
 ],
 "metadata": {
  "kernelspec": {
   "display_name": "Python 3",
   "language": "python",
   "name": "python3"
  },
  "language_info": {
   "codemirror_mode": {
    "name": "ipython",
    "version": 3
   },
   "file_extension": ".py",
   "mimetype": "text/x-python",
   "name": "python",
   "nbconvert_exporter": "python",
   "pygments_lexer": "ipython3",
   "version": "3.12.2"
  }
 },
 "nbformat": 4,
 "nbformat_minor": 5
}
