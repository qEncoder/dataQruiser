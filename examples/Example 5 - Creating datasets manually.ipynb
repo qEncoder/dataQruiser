{
 "cells": [
  {
   "cell_type": "markdown",
   "id": "770fabb9-6a5f-4958-8b68-c277594e7881",
   "metadata": {},
   "source": [
    "# Example 4 - Creating datasets manually\n",
    "- Create a new dataset from the dataQruiser app itself by clicking on the `Create empty dataset` button (+ icon under searchbar)\n",
    "- Edit dataset information clicking on the `Edit..` button, where you can input\n",
    "    - Name\n",
    "    - Description\n",
    "    - Keywords: you can then use the searchbar to serch dataset with these specific keywords\n",
    "    - Attributes: key-value pairs that can be used to filter datasets (on the searchbar click on `Attribute selection)\n",
    "- Drag and drop the files in folder `./data_drag_and_drop` into dataQruiser app (you can find the folder [here](https://github.com/qEncoder/dataQruiser/tree/main/examples)).\n",
    "- Try and load one of the measurement_data.hdf5 files in python (copy the python import from dataQruiser)\n",
    "\n",
    "You can download this jupyter notebook and more examples from [here](https://github.com/qEncoder/dataQruiser/tree/main/examples).\n"
   ]
  },
  {
   "cell_type": "code",
   "execution_count": 2,
   "id": "afe2902d-a4ab-4e35-811d-28bb61ec15c3",
   "metadata": {},
   "outputs": [
    {
     "data": {
      "text/plain": [
       "Contents of dataset :: New Dataset\n",
       "==================================\n",
       "\n",
       "uuid :: f739315a-5313-4663-a92d-a0f84e0b03d1\n",
       "Scope :: z_scope\n",
       "Ranking :: 0\n",
       "Files :: \n",
       "name                        type              selected version number (version_id)      Maximal version number\n",
       "--------------------------  ----------------  --------------------------------------  ------------------------\n",
       "Fig2_Lakic2024.ipynb        FileType.UNKNOWN  0 (1726564603006)                                              0\n",
       "measured_data_1.hdf5        FileType.HDF5     0 (1726564603509)                                              0\n",
       "measured_data_2.hdf5        FileType.HDF5     0 (1726564604011)                                              0\n",
       "mock_config.json            FileType.JSON     0 (1726564604513)                                              0\n",
       "mock_measurement_script.py  FileType.UNKNOWN  0 (1726564605016)                                              0\n",
       "paper_fig2.png              FileType.UNKNOWN  0 (1726564605517)                                              0\n",
       "readme.txt                  FileType.UNKNOWN  0 (1726564606019)                                              0"
      ]
     },
     "execution_count": 2,
     "metadata": {},
     "output_type": "execute_result"
    }
   ],
   "source": [
    "from qdrive import dataset\n",
    "dsq = dataset(\"f739315a53134663a92da0f84e0b03d1\")\n",
    "dsq"
   ]
  },
  {
   "cell_type": "code",
   "execution_count": null,
   "id": "33ecf394",
   "metadata": {},
   "outputs": [],
   "source": []
  }
 ],
 "metadata": {
  "kernelspec": {
   "display_name": "Python 3 (ipykernel)",
   "language": "python",
   "name": "python3"
  },
  "language_info": {
   "codemirror_mode": {
    "name": "ipython",
    "version": 3
   },
   "file_extension": ".py",
   "mimetype": "text/x-python",
   "name": "python",
   "nbconvert_exporter": "python",
   "pygments_lexer": "ipython3",
   "version": "3.11.9"
  }
 },
 "nbformat": 4,
 "nbformat_minor": 5
}
