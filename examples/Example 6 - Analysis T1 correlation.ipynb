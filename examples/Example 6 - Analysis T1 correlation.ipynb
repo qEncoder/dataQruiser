{
 "cells": [
  {
   "cell_type": "markdown",
   "id": "d7270e89",
   "metadata": {},
   "source": [
    "# Statistical analysis\n",
    "In this example we create a series of T1 measurement each with a different set of parameters specified in settings.json.\n",
    "\n",
    "Then we retrive a number of datasets where a T1 experiment was performed by retriving all dataset with attribute 'measurement_type'='T1'. Then we perform an analysis where we check the correlation of the 4 measurement parameter of each dataset specified in the settings.json, and we make a new dataset with a report. "
   ]
  },
  {
   "cell_type": "markdown",
   "id": "f78f83c0",
   "metadata": {},
   "source": [
    "### Create several T1 measurement datasets"
   ]
  },
  {
   "cell_type": "code",
   "execution_count": 2,
   "id": "4511d039",
   "metadata": {},
   "outputs": [],
   "source": [
    "import numpy as np\n",
    "import xarray as xr\n",
    "from qdrive import dataset\n",
    "import json\n",
    "\n",
    "# Create several datasets with different T1 values that correlate with param_4\n",
    "n_datasets = 15\n",
    "\n",
    "for i in range(n_datasets):\n",
    "    # Generate T1 value that correlates with param_4 (with some noise)\n",
    "    base_param_4 = 10 + i * 5  # param_4 ranges from 10 to 55\n",
    "    t1_value = 15 + 0.8 * base_param_4 + np.random.normal(0, 2)  # Linear correlation with noise\n",
    "    \n",
    "    # Generate T1 measurement data\n",
    "    t1_times = np.linspace(0, 100, 50)  # microseconds\n",
    "    t1_signal = np.exp(-t1_times/t1_value) + 0.02 * np.random.randn(50)\n",
    "    \n",
    "    # Create xarray dataset with units and attributes\n",
    "    xr_ds = xr.Dataset({\n",
    "        'Signal': (['Time'], t1_signal, {'units': 'V'})\n",
    "    }, coords={\n",
    "        'Time': (['Time'], t1_times, {'units': 'us'})\n",
    "    }, attrs={'T1_fitted': t1_value, 'T1_units': 'us'})\n",
    "    \n",
    "    # Create JSON parameters with param_4 correlating to T1\n",
    "    json_params = {\n",
    "        'param_1': np.random.uniform(1, 10),\n",
    "        'param_2': np.random.uniform(20, 50),\n",
    "        'param_3': np.random.uniform(1, 100),\n",
    "        'param_4': base_param_4 + np.random.normal(0, 1),  # This correlates with T1\n",
    "    }\n",
    "    \n",
    "    # Create QHarbor dataset\n",
    "    dsq = dataset.create(f'T1_measurement', \n",
    "                        scope_name=None, \n",
    "                        description=f'T1 measurement dataset {i+1} with T1≈{t1_value:.1f}μs', \n",
    "                        tags=['T1_measurement'],\n",
    "                        attributes={'measurement_type': 'T1', 'sample': f'S{i+1:02d}'})\n",
    "\n",
    "\n",
    "    # Add the xarray data as HDF5 file\n",
    "    dsq['measurement.hdf5'] = xr_ds\n",
    "    \n",
    "    # Add the parameters as JSON file\n",
    "    dsq['settings.json'] = json_params"
   ]
  },
  {
   "cell_type": "markdown",
   "id": "051ae00b",
   "metadata": {},
   "source": [
    "### Search and analysis all recent T1 datasets"
   ]
  },
  {
   "cell_type": "code",
   "execution_count": null,
   "id": "ac7661c7",
   "metadata": {},
   "outputs": [],
   "source": [
    "# Install dependencies:\n",
    "# ! pip install seaborn\n",
    "# ! pip install bokeh"
   ]
  },
  {
   "cell_type": "code",
   "execution_count": 3,
   "id": "5ab94e2a",
   "metadata": {},
   "outputs": [
    {
     "name": "stdout",
     "output_type": "stream",
     "text": [
      "Found 25 T1 datasets.\n",
      "Report saved to: data/t1_correlation_report.html\n",
      "Analyzed 25 samples with T1 range: 20.5 - 79.4 μs\n"
     ]
    }
   ],
   "source": [
    "from t1_analysis import t1_correlation_analysis\n",
    "from qdrive.dataset.search import search_datasets\n",
    "from datetime import date\n",
    "\n",
    "# Search for T1 datasets and return as a list.\n",
    "from datetime import datetime\n",
    "search_result = search_datasets(attributes={'measurement_type': 'T1'}, start_date=datetime(2025, 9, 2))\n",
    "datasets = list(search_result)\n",
    "print(f\"Found {len(datasets)} T1 datasets.\")\n",
    "\n",
    "# Run the analysis\n",
    "report_file, results_df = t1_correlation_analysis(datasets)"
   ]
  }
 ],
 "metadata": {
  "kernelspec": {
   "display_name": "qdrive_env",
   "language": "python",
   "name": "python3"
  },
  "language_info": {
   "codemirror_mode": {
    "name": "ipython",
    "version": 3
   },
   "file_extension": ".py",
   "mimetype": "text/x-python",
   "name": "python",
   "nbconvert_exporter": "python",
   "pygments_lexer": "ipython3",
   "version": "3.11.13"
  }
 },
 "nbformat": 4,
 "nbformat_minor": 5
}
